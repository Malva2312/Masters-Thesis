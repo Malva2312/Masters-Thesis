{
 "cells": [
  {
   "cell_type": "markdown",
   "metadata": {},
   "source": [
    "# Setup and Dependencies"
   ]
  },
  {
   "cell_type": "code",
   "execution_count": null,
   "metadata": {},
   "outputs": [],
   "source": [
    "pip install torch torchvision pytorch-lightning efficientnet_pytorch monai scikit-learn pandas numpy matplotlib"
   ]
  },
  {
   "cell_type": "code",
   "execution_count": null,
   "metadata": {},
   "outputs": [],
   "source": [
    "import torch\n",
    "import torch.nn as nn\n",
    "import torch.optim as optim\n",
    "from torch.utils.data import DataLoader, Dataset\n",
    "import pytorch_lightning as pl\n",
    "from efficientnet_pytorch import EfficientNet\n",
    "import torchvision.transforms as transforms\n",
    "from sklearn.model_selection import train_test_split\n",
    "from monai.transforms import Compose, Resize, EnsureType\n",
    "from monai.data import ImageDataset"
   ]
  },
  {
   "cell_type": "markdown",
   "metadata": {},
   "source": [
    "# Dataset Preparation\n",
    "- Load lung nodule data (CT scans with labels: benign vs. malignant).\n",
    "- Apply preprocessing: resizing, normalization, augmentations.\n",
    "- Define a PyTorch Dataset and DataLoader."
   ]
  },
  {
   "cell_type": "code",
   "execution_count": null,
   "metadata": {},
   "outputs": [],
   "source": [
    "class LungNoduleDataset(Dataset):\n",
    "    def __init__(self, image_paths, labels, transform=None):\n",
    "        self.image_paths = image_paths\n",
    "        self.labels = labels\n",
    "        self.transform = transform\n",
    "\n",
    "    def __len__(self):\n",
    "        return len(self.image_paths)\n",
    "\n",
    "    def __getitem__(self, idx):\n",
    "        image = torch.load(self.image_paths[idx])  # Load preprocessed CT scan tensor\n",
    "        label = self.labels[idx]\n",
    "\n",
    "        if self.transform:\n",
    "            image = self.transform(image)\n",
    "\n",
    "        return image, label\n",
    "\n",
    "# Define transforms\n",
    "transform = Compose([\n",
    "    Resize((224, 224)),  # Resize to match EfficientNet input size\n",
    "    EnsureType(),\n",
    "])\n",
    "\n",
    "# Load dataset\n",
    "image_paths = [...]  # List of preprocessed image file paths\n",
    "labels = [...]  # Corresponding labels\n",
    "\n",
    "# Train-test split\n",
    "train_paths, val_paths, train_labels, val_labels = train_test_split(\n",
    "    image_paths, labels, test_size=0.2, random_state=42\n",
    ")\n",
    "\n",
    "# Create PyTorch datasets\n",
    "train_dataset = LungNoduleDataset(train_paths, train_labels, transform=transform)\n",
    "val_dataset = LungNoduleDataset(val_paths, val_labels, transform=transform)\n",
    "\n",
    "# Create data loaders\n",
    "train_loader = DataLoader(train_dataset, batch_size=16, shuffle=True)\n",
    "val_loader = DataLoader(val_dataset, batch_size=16, shuffle=False)\n"
   ]
  },
  {
   "cell_type": "markdown",
   "metadata": {},
   "source": [
    "# Model Definition (EfficientNet + Lightning)\n",
    "- Use EfficientNet-B0 as the backbone.\n",
    "- Modify the classifier head for binary classification (nodule malignancy).\n",
    "- Define the LightningModule for training and validation."
   ]
  },
  {
   "cell_type": "code",
   "execution_count": null,
   "metadata": {},
   "outputs": [],
   "source": [
    "class LungNoduleClassifier(pl.LightningModule):\n",
    "    def __init__(self, lr=1e-4):\n",
    "        super().__init__()\n",
    "        self.save_hyperparameters()\n",
    "        \n",
    "        # Load EfficientNet and modify final layer\n",
    "        self.model = EfficientNet.from_pretrained(\"efficientnet-b0\")\n",
    "        # self.model = FusionModel(protocol = 1)  # Custom model for fusion\n",
    "        self.model._fc = nn.Linear(self.model._fc.in_features, 1)  # Binary classification\n",
    "\n",
    "        self.loss_fn = nn.BCEWithLogitsLoss()  # For binary classification\n",
    "        self.lr = lr\n",
    "\n",
    "    def forward(self, x):\n",
    "        return self.model(x)\n",
    "\n",
    "    def training_step(self, batch, batch_idx):\n",
    "        images, labels = batch\n",
    "        labels = labels.float().unsqueeze(1)  # Ensure shape compatibility\n",
    "        logits = self(images)\n",
    "        loss = self.loss_fn(logits, labels)\n",
    "        preds = torch.sigmoid(logits).round()\n",
    "        acc = (preds == labels).float().mean()\n",
    "        self.log(\"train_loss\", loss, prog_bar=True)\n",
    "        self.log(\"train_acc\", acc, prog_bar=True)\n",
    "        return loss\n",
    "\n",
    "    def validation_step(self, batch, batch_idx):\n",
    "        images, labels = batch\n",
    "        labels = labels.float().unsqueeze(1)\n",
    "        logits = self(images)\n",
    "        loss = self.loss_fn(logits, labels)\n",
    "        preds = torch.sigmoid(logits).round()\n",
    "        acc = (preds == labels).float().mean()\n",
    "        self.log(\"val_loss\", loss, prog_bar=True)\n",
    "        self.log(\"val_acc\", acc, prog_bar=True)\n",
    "        return loss\n",
    "\n",
    "    def configure_optimizers(self):\n",
    "        return optim.Adam(self.parameters(), lr=self.lr)\n"
   ]
  },
  {
   "cell_type": "markdown",
   "metadata": {},
   "source": [
    "# Training and Evaluation"
   ]
  },
  {
   "cell_type": "code",
   "execution_count": null,
   "metadata": {},
   "outputs": [],
   "source": [
    "trainer = pl.Trainer(\n",
    "    max_epochs=20,\n",
    "    accelerator=\"gpu\" if torch.cuda.is_available() else \"cpu\",\n",
    "    log_every_n_steps=10\n",
    ")\n",
    "\n",
    "# Initialize model\n",
    "model = LungNoduleClassifier(lr=1e-4)\n",
    "\n",
    "# Train the model\n",
    "trainer.fit(model, train_dataloaders=train_loader, val_dataloaders=val_loader)\n"
   ]
  },
  {
   "cell_type": "markdown",
   "metadata": {},
   "source": [
    "# Testing and Deployment"
   ]
  },
  {
   "cell_type": "code",
   "execution_count": null,
   "metadata": {},
   "outputs": [],
   "source": [
    "def predict(model, image_path):\n",
    "    model.eval()\n",
    "    image = torch.load(image_path)  # Load preprocessed image tensor\n",
    "    image = transform(image).unsqueeze(0)  # Add batch dimension\n",
    "    logits = model(image)\n",
    "    prob = torch.sigmoid(logits).item()\n",
    "    return \"Malignant\" if prob > 0.5 else \"Benign\"\n",
    "\n",
    "# Example usage\n",
    "prediction = predict(model, \"path/to/sample_ct_scan.pt\")\n",
    "print(f\"Prediction: {prediction}\")\n"
   ]
  }
 ],
 "metadata": {
  "kernelspec": {
   "display_name": "Python 3",
   "language": "python",
   "name": "python3"
  },
  "language_info": {
   "codemirror_mode": {
    "name": "ipython",
    "version": 3
   },
   "file_extension": ".py",
   "mimetype": "text/x-python",
   "name": "python",
   "nbconvert_exporter": "python",
   "pygments_lexer": "ipython3",
   "version": "3.10.11"
  }
 },
 "nbformat": 4,
 "nbformat_minor": 2
}
